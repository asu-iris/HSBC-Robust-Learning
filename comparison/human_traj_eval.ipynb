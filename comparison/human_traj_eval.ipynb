{
 "cells": [
  {
   "cell_type": "code",
   "execution_count": 47,
   "metadata": {},
   "outputs": [],
   "source": [
    "import torch\n",
    "\n",
    "def torch_reward_gt(input): #input:(x,u)\n",
    "    upright = (input[...,2] + 1)/2\n",
    "    middle = torch.exp(-input[...,0]**2)\n",
    "    small_ctrl = torch.exp(-4*input[...,-1]**2)\n",
    "    \n",
    "    small_ctrl = (4+small_ctrl)/5\n",
    "\n",
    "    small_vel = torch.exp(-0.5*input[...,4]**2)\n",
    "    small_vel = (1 + small_vel) / 2\n",
    "\n",
    "    return (upright*middle*small_ctrl*small_vel).unsqueeze(-1)\n",
    "\n",
    "def torch_reward_walker(input): #input:(x,u)\n",
    "    upright = (torch.cos(input[...,1]) + 1)/2\n",
    "    #standing = torch.exp(-16*(input[...,0])**2)\n",
    "    standing = torch.clip(1-1.0*torch.abs(input[...,0]),0,1)\n",
    "    standing_reward = (3*standing + upright)/4\n",
    "\n",
    "    #move_reward = torch.exp(-8*(1.0-input[...,8])**2)\n",
    "    move_reward = torch.clip(input[...,8]/1.0,0.0,1)\n",
    "\n",
    "    return (standing_reward*move_reward).unsqueeze(-1)\n"
   ]
  },
  {
   "cell_type": "code",
   "execution_count": 48,
   "metadata": {},
   "outputs": [
    {
     "name": "stdout",
     "output_type": "stream",
     "text": [
      "torch.Size([11, 10, 2, 50, 6])\n",
      "torch.Size([11, 10])\n"
     ]
    },
    {
     "name": "stderr",
     "output_type": "stream",
     "text": [
      "/tmp/ipykernel_1099681/414897891.py:1: FutureWarning: You are using `torch.load` with `weights_only=False` (the current default value), which uses the default pickle module implicitly. It is possible to construct malicious pickle data which will execute arbitrary code during unpickling (See https://github.com/pytorch/pytorch/blob/main/SECURITY.md#untrusted-models for more details). In a future release, the default value for `weights_only` will be flipped to `True`. This limits the functions that could be executed during unpickling. Arbitrary objects will no longer be allowed to be loaded via this mode unless they are explicitly allowlisted by the user via `torch.serialization.add_safe_globals`. We recommend you start setting `weights_only=True` for any use case where you don't have full control of the loaded file. Please open an issue on GitHub for any issues related to this experimental feature.\n",
      "  data = torch.load(\"../Data/Human_fb/Cartpole_4/history_data.pt\")\n",
      "/tmp/ipykernel_1099681/414897891.py:2: FutureWarning: You are using `torch.load` with `weights_only=False` (the current default value), which uses the default pickle module implicitly. It is possible to construct malicious pickle data which will execute arbitrary code during unpickling (See https://github.com/pytorch/pytorch/blob/main/SECURITY.md#untrusted-models for more details). In a future release, the default value for `weights_only` will be flipped to `True`. This limits the functions that could be executed during unpickling. Arbitrary objects will no longer be allowed to be loaded via this mode unless they are explicitly allowlisted by the user via `torch.serialization.add_safe_globals`. We recommend you start setting `weights_only=True` for any use case where you don't have full control of the loaded file. Please open an issue on GitHub for any issues related to this experimental feature.\n",
      "  label = torch.load(\"../Data/Human_fb/Cartpole_4/history_label_tensor.pt\")\n"
     ]
    }
   ],
   "source": [
    "data = torch.load(\"../Data/Human_fb/Cartpole_4/history_data.pt\")\n",
    "label = torch.load(\"../Data/Human_fb/Cartpole_4/history_label_tensor.pt\")\n",
    "\n",
    "print(data.shape)\n",
    "print(label.shape)"
   ]
  },
  {
   "cell_type": "code",
   "execution_count": 49,
   "metadata": {},
   "outputs": [
    {
     "name": "stdout",
     "output_type": "stream",
     "text": [
      "torch.Size([11, 10, 2])\n"
     ]
    }
   ],
   "source": [
    "rewards = torch_reward_gt(data).squeeze(-1).sum(-1)\n",
    "print(rewards.shape)"
   ]
  },
  {
   "cell_type": "code",
   "execution_count": 50,
   "metadata": {},
   "outputs": [
    {
     "data": {
      "text/plain": [
       "tensor([[False, False,  True, False,  True,  True, False,  True,  True,  True],\n",
       "        [False, False, False, False,  True, False, False,  True, False, False],\n",
       "        [False,  True,  True,  True, False,  True, False,  True,  True,  True],\n",
       "        [False, False, False,  True,  True, False, False, False,  True,  True],\n",
       "        [False,  True,  True,  True,  True, False, False, False, False,  True],\n",
       "        [ True,  True,  True,  True,  True,  True,  True, False, False, False],\n",
       "        [False,  True,  True, False,  True,  True,  True,  True,  True,  True],\n",
       "        [False, False, False, False,  True,  True,  True, False,  True,  True],\n",
       "        [False, False, False, False, False, False, False, False, False, False],\n",
       "        [False, False,  True,  True,  True, False,  True,  True,  True, False],\n",
       "        [False, False, False, False,  True, False, False, False, False, False]])"
      ]
     },
     "execution_count": 50,
     "metadata": {},
     "output_type": "execute_result"
    }
   ],
   "source": [
    "label_true = rewards[...,0] > rewards[...,1]\n",
    "label_true"
   ]
  },
  {
   "cell_type": "code",
   "execution_count": 51,
   "metadata": {},
   "outputs": [
    {
     "data": {
      "text/plain": [
       "tensor([[ True,  True,  True,  True,  True,  True,  True,  True,  True,  True],\n",
       "        [ True,  True,  True,  True,  True,  True,  True,  True,  True,  True],\n",
       "        [ True,  True,  True,  True,  True,  True,  True,  True,  True,  True],\n",
       "        [ True,  True,  True,  True,  True,  True,  True,  True,  True,  True],\n",
       "        [ True,  True,  True,  True,  True,  True,  True,  True,  True,  True],\n",
       "        [ True,  True,  True,  True,  True,  True,  True,  True,  True,  True],\n",
       "        [ True,  True,  True, False,  True,  True,  True,  True,  True,  True],\n",
       "        [ True,  True,  True, False,  True,  True,  True, False,  True,  True],\n",
       "        [ True,  True,  True,  True,  True,  True,  True,  True,  True,  True],\n",
       "        [ True,  True, False,  True,  True, False,  True,  True,  True, False],\n",
       "        [ True,  True,  True,  True,  True,  True,  True,  True,  True,  True]])"
      ]
     },
     "execution_count": 51,
     "metadata": {},
     "output_type": "execute_result"
    }
   ],
   "source": [
    "label.bool() == label_true"
   ]
  },
  {
   "cell_type": "code",
   "execution_count": 39,
   "metadata": {},
   "outputs": [
    {
     "name": "stdout",
     "output_type": "stream",
     "text": [
      "torch.Size([21, 10, 2, 50, 23])\n",
      "torch.Size([21, 10])\n"
     ]
    },
    {
     "name": "stderr",
     "output_type": "stream",
     "text": [
      "/tmp/ipykernel_1099681/2684172697.py:1: FutureWarning: You are using `torch.load` with `weights_only=False` (the current default value), which uses the default pickle module implicitly. It is possible to construct malicious pickle data which will execute arbitrary code during unpickling (See https://github.com/pytorch/pytorch/blob/main/SECURITY.md#untrusted-models for more details). In a future release, the default value for `weights_only` will be flipped to `True`. This limits the functions that could be executed during unpickling. Arbitrary objects will no longer be allowed to be loaded via this mode unless they are explicitly allowlisted by the user via `torch.serialization.add_safe_globals`. We recommend you start setting `weights_only=True` for any use case where you don't have full control of the loaded file. Please open an issue on GitHub for any issues related to this experimental feature.\n",
      "  data = torch.load(\"../Data/Human_fb/Walker_4/history_data.pt\")\n",
      "/tmp/ipykernel_1099681/2684172697.py:2: FutureWarning: You are using `torch.load` with `weights_only=False` (the current default value), which uses the default pickle module implicitly. It is possible to construct malicious pickle data which will execute arbitrary code during unpickling (See https://github.com/pytorch/pytorch/blob/main/SECURITY.md#untrusted-models for more details). In a future release, the default value for `weights_only` will be flipped to `True`. This limits the functions that could be executed during unpickling. Arbitrary objects will no longer be allowed to be loaded via this mode unless they are explicitly allowlisted by the user via `torch.serialization.add_safe_globals`. We recommend you start setting `weights_only=True` for any use case where you don't have full control of the loaded file. Please open an issue on GitHub for any issues related to this experimental feature.\n",
      "  label = torch.load(\"../Data/Human_fb/Walker_4/history_label_tensor.pt\")\n"
     ]
    }
   ],
   "source": [
    "data = torch.load(\"../Data/Human_fb/Walker_4/history_data.pt\")\n",
    "label = torch.load(\"../Data/Human_fb/Walker_4/history_label_tensor.pt\")\n",
    "\n",
    "print(data.shape)\n",
    "print(label.shape)"
   ]
  },
  {
   "cell_type": "code",
   "execution_count": 40,
   "metadata": {},
   "outputs": [
    {
     "name": "stdout",
     "output_type": "stream",
     "text": [
      "torch.Size([21, 10, 2])\n"
     ]
    }
   ],
   "source": [
    "rewards = torch_reward_walker(data).squeeze(-1).sum(-1)\n",
    "print(rewards.shape)"
   ]
  },
  {
   "cell_type": "code",
   "execution_count": 41,
   "metadata": {},
   "outputs": [
    {
     "data": {
      "text/plain": [
       "tensor([[False, False, False, False,  True, False, False,  True,  True, False],\n",
       "        [False, False,  True, False,  True, False, False, False,  True, False],\n",
       "        [ True,  True,  True, False, False, False,  True, False,  True, False],\n",
       "        [False, False,  True, False, False,  True, False, False, False, False],\n",
       "        [ True,  True, False, False,  True,  True,  True,  True, False,  True],\n",
       "        [ True,  True, False,  True,  True, False, False, False,  True, False],\n",
       "        [False, False, False, False, False, False, False,  True, False,  True],\n",
       "        [False, False, False, False, False,  True,  True, False, False,  True],\n",
       "        [False, False, False,  True, False, False, False, False, False, False],\n",
       "        [ True,  True, False, False, False, False, False,  True, False, False],\n",
       "        [False, False, False, False, False, False, False, False,  True, False],\n",
       "        [ True, False,  True,  True,  True,  True,  True,  True,  True,  True],\n",
       "        [ True,  True, False,  True,  True,  True, False,  True,  True, False],\n",
       "        [ True, False,  True,  True, False,  True,  True,  True, False, False],\n",
       "        [False,  True, False, False,  True,  True,  True, False, False, False],\n",
       "        [False,  True,  True,  True,  True, False, False,  True,  True, False],\n",
       "        [False,  True, False, False,  True,  True, False,  True,  True, False],\n",
       "        [False, False, False,  True, False, False, False, False, False, False],\n",
       "        [False,  True, False,  True,  True,  True, False,  True,  True,  True],\n",
       "        [ True, False,  True,  True,  True,  True, False,  True, False,  True],\n",
       "        [False, False, False, False, False, False, False, False, False,  True]])"
      ]
     },
     "execution_count": 41,
     "metadata": {},
     "output_type": "execute_result"
    }
   ],
   "source": [
    "label_true = rewards[...,0] > rewards[...,1]\n",
    "label_true"
   ]
  },
  {
   "cell_type": "code",
   "execution_count": 42,
   "metadata": {},
   "outputs": [
    {
     "data": {
      "text/plain": [
       "tensor([[ True,  True,  True,  True,  True,  True,  True,  True,  True,  True],\n",
       "        [ True,  True,  True,  True,  True,  True,  True,  True,  True,  True],\n",
       "        [ True,  True,  True,  True,  True,  True,  True,  True,  True,  True],\n",
       "        [ True,  True,  True,  True,  True,  True,  True,  True,  True,  True],\n",
       "        [ True,  True,  True,  True,  True,  True,  True,  True,  True,  True],\n",
       "        [ True,  True,  True,  True,  True,  True,  True,  True,  True,  True],\n",
       "        [ True,  True,  True,  True,  True,  True,  True,  True,  True,  True],\n",
       "        [ True,  True,  True,  True,  True,  True,  True,  True,  True,  True],\n",
       "        [ True,  True,  True,  True,  True,  True,  True,  True,  True,  True],\n",
       "        [ True,  True,  True,  True,  True,  True,  True,  True,  True,  True],\n",
       "        [ True,  True,  True,  True,  True,  True,  True,  True,  True,  True],\n",
       "        [ True, False,  True,  True,  True,  True,  True,  True,  True,  True],\n",
       "        [ True,  True,  True,  True,  True,  True,  True,  True,  True, False],\n",
       "        [ True,  True, False,  True, False, False, False, False,  True,  True],\n",
       "        [ True,  True,  True, False,  True, False,  True,  True,  True, False],\n",
       "        [False, False, False,  True, False,  True,  True,  True,  True,  True],\n",
       "        [ True,  True, False, False, False,  True, False,  True, False, False],\n",
       "        [ True,  True,  True,  True, False, False,  True,  True,  True, False],\n",
       "        [ True,  True, False,  True,  True,  True, False,  True,  True,  True],\n",
       "        [False,  True, False, False, False, False,  True,  True, False, False],\n",
       "        [ True,  True,  True,  True,  True,  True,  True,  True,  True, False]])"
      ]
     },
     "execution_count": 42,
     "metadata": {},
     "output_type": "execute_result"
    }
   ],
   "source": [
    "label.bool() == label_true"
   ]
  }
 ],
 "metadata": {
  "kernelspec": {
   "display_name": "sample_env",
   "language": "python",
   "name": "python3"
  },
  "language_info": {
   "codemirror_mode": {
    "name": "ipython",
    "version": 3
   },
   "file_extension": ".py",
   "mimetype": "text/x-python",
   "name": "python",
   "nbconvert_exporter": "python",
   "pygments_lexer": "ipython3",
   "version": "3.11.10"
  }
 },
 "nbformat": 4,
 "nbformat_minor": 2
}
