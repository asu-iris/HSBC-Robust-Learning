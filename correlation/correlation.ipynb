{
 "cells": [
  {
   "cell_type": "code",
   "execution_count": 2,
   "metadata": {},
   "outputs": [],
   "source": [
    "import numpy as np"
   ]
  },
  {
   "cell_type": "code",
   "execution_count": 18,
   "metadata": {},
   "outputs": [
    {
     "name": "stdout",
     "output_type": "stream",
     "text": [
      "corr 0 0.9279632317138798 0.02453731961650546\n",
      "corr 1 0.8881040173014704 0.031054905531947185\n",
      "corr 2 0.9143591099700188 0.02289815119744632\n",
      "corr 3 0.8510192467578334 0.06201387920985981\n"
     ]
    }
   ],
   "source": [
    "#cartpole\n",
    "corr_0 = []\n",
    "for j in (0,1,2,3,4):\n",
    "    res = np.load('../Data/Cartpole/RA/error_0/run_{}/eval_result_0.npz'.format(j))\n",
    "    r_pred = res[\"r_pred\"].flatten()[0:200]\n",
    "    r_gt = res[\"r_gt\"].flatten()[0:200]\n",
    "    corr = np.corrcoef(r_pred,r_gt)[0,1]\n",
    "    corr_0.append(corr)\n",
    "\n",
    "corr_1 = []\n",
    "for j in (0,1,2,3,4):\n",
    "    res = np.load('../Data/Cartpole/RA/error_1/run_{}/eval_result_0.npz'.format(j))\n",
    "    r_pred = res[\"r_pred\"].flatten()[0:200]\n",
    "    r_gt = res[\"r_gt\"].flatten()[0:200]\n",
    "    corr = np.corrcoef(r_pred,r_gt)[0,1]\n",
    "    corr_1.append(corr)\n",
    "\n",
    "corr_2 = []\n",
    "for j in (0,1,2,3,4):\n",
    "    res = np.load('../Data/Cartpole/RA/error_2/run_{}/eval_result_0.npz'.format(j))\n",
    "    r_pred = res[\"r_pred\"].flatten()[0:200]\n",
    "    r_gt = res[\"r_gt\"].flatten()[0:200]\n",
    "    corr = np.corrcoef(r_pred,r_gt)[0,1]\n",
    "    corr_2.append(corr)\n",
    "\n",
    "corr_3 = []\n",
    "for j in (0,1,2,3,4):\n",
    "    res = np.load('../Data/Cartpole/RA/error_3/run_{}/eval_result_0.npz'.format(j))\n",
    "    r_pred = res[\"r_pred\"].flatten()[0:200]\n",
    "    r_gt = res[\"r_gt\"].flatten()[0:200]\n",
    "    corr = np.corrcoef(r_pred,r_gt)[0,1]\n",
    "    corr_3.append(corr)\n",
    "\n",
    "print(\"corr 0\", np.mean(corr_0), np.std(corr_0))\n",
    "print(\"corr 1\", np.mean(corr_1), np.std(corr_1))\n",
    "print(\"corr 2\", np.mean(corr_2), np.std(corr_2))\n",
    "print(\"corr 3\", np.mean(corr_3), np.std(corr_3))"
   ]
  },
  {
   "cell_type": "code",
   "execution_count": 13,
   "metadata": {},
   "outputs": [
    {
     "name": "stdout",
     "output_type": "stream",
     "text": [
      "corr 0 0.5841132087794841 0.035346381221766\n",
      "corr 1 0.6356033439086399 0.060575569935607296\n",
      "corr 2 0.5978140985724922 0.07002004093933786\n",
      "corr 3 0.430233228926497 0.06251364173391873\n"
     ]
    }
   ],
   "source": [
    "#walker\n",
    "corr_0 = []\n",
    "for j in (0,1,2,3,4):\n",
    "    res = np.load('../Data/Walker/RA/error_0/run_{}/eval_result_0.npz'.format(j))\n",
    "    r_pred = res[\"r_pred\"].flatten()[0:200]\n",
    "    r_gt = res[\"r_gt\"].flatten()[0:200]\n",
    "    corr = np.corrcoef(r_pred,r_gt)[0,1]\n",
    "    corr_0.append(corr)\n",
    "\n",
    "corr_1 = []\n",
    "for j in (0,1,2,3,4):\n",
    "    res = np.load('../Data/Walker/RA/error_1/run_{}/eval_result_0.npz'.format(j))\n",
    "    r_pred = res[\"r_pred\"].flatten()[0:200]\n",
    "    r_gt = res[\"r_gt\"].flatten()[0:200]\n",
    "    corr = np.corrcoef(r_pred,r_gt)[0,1]\n",
    "    corr_1.append(corr)\n",
    "\n",
    "corr_2 = []\n",
    "for j in (0,1,2,3,4):\n",
    "    res = np.load('../Data/Walker/RA/error_2/run_{}/eval_result_0.npz'.format(j))\n",
    "    r_pred = res[\"r_pred\"].flatten()[0:200]\n",
    "    r_gt = res[\"r_gt\"].flatten()[0:200]\n",
    "    corr = np.corrcoef(r_pred,r_gt)[0,1]\n",
    "    corr_2.append(corr)\n",
    "\n",
    "corr_3 = []\n",
    "for j in (0,1,2,3,4):\n",
    "    res = np.load('../Data/Walker/RA/error_3/run_{}/eval_result_0.npz'.format(j))\n",
    "    r_pred = res[\"r_pred\"].flatten()[0:200]\n",
    "    r_gt = res[\"r_gt\"].flatten()[0:200]\n",
    "    corr = np.corrcoef(r_pred,r_gt)[0,1]\n",
    "    corr_3.append(corr)\n",
    "\n",
    "print(\"corr 0\", np.mean(corr_0), np.std(corr_0))\n",
    "print(\"corr 1\", np.mean(corr_1), np.std(corr_1))\n",
    "print(\"corr 2\", np.mean(corr_2), np.std(corr_2))\n",
    "print(\"corr 3\", np.mean(corr_3), np.std(corr_3))"
   ]
  },
  {
   "cell_type": "code",
   "execution_count": 17,
   "metadata": {},
   "outputs": [
    {
     "name": "stdout",
     "output_type": "stream",
     "text": [
      "corr 0 0.672857949269696 0.07063676522262012\n",
      "corr 1 0.6568077858305195 0.06652887478467547\n",
      "corr 2 0.5460288699842838 0.13440188852881024\n",
      "corr 3 0.5002392464685371 0.07915866507971424\n"
     ]
    }
   ],
   "source": [
    "#humanoid\n",
    "corr_0 = []\n",
    "for j in (0,1,2,3,4):\n",
    "    res = np.load('../Data/Humanoid_New/RA/error_0/run_{}/eval_result_0.npz'.format(j))\n",
    "    r_pred = res[\"r_pred\"].flatten()[0:200]\n",
    "    r_gt = res[\"r_gt\"].flatten()[0:200]\n",
    "    corr = np.corrcoef(r_pred,r_gt)[0,1]\n",
    "    corr_0.append(corr)\n",
    "\n",
    "corr_1 = []\n",
    "for j in (0,1,2,3,4):\n",
    "    res = np.load('../Data/Humanoid_New/RA/error_1/run_{}/eval_result_0.npz'.format(j))\n",
    "    r_pred = res[\"r_pred\"].flatten()[0:200]\n",
    "    r_gt = res[\"r_gt\"].flatten()[0:200]\n",
    "    corr = np.corrcoef(r_pred,r_gt)[0,1]\n",
    "    corr_1.append(corr)\n",
    "\n",
    "corr_2 = []\n",
    "for j in (0,1,2,3,4):\n",
    "    res = np.load('../Data/Humanoid_New/RA/error_2/run_{}/eval_result_0.npz'.format(j))\n",
    "    r_pred = res[\"r_pred\"].flatten()[0:200]\n",
    "    r_gt = res[\"r_gt\"].flatten()[0:200]\n",
    "    corr = np.corrcoef(r_pred,r_gt)[0,1]\n",
    "    corr_2.append(corr)\n",
    "\n",
    "corr_3 = []\n",
    "for j in (0,1,2,3,4):\n",
    "    res = np.load('../Data/Humanoid_New/RA/error_3/run_{}/eval_result_0.npz'.format(j))\n",
    "    r_pred = res[\"r_pred\"].flatten()[0:200]\n",
    "    r_gt = res[\"r_gt\"].flatten()[0:200]\n",
    "    corr = np.corrcoef(r_pred,r_gt)[0,1]\n",
    "    corr_3.append(corr)\n",
    "\n",
    "print(\"corr 0\", np.mean(corr_0), np.std(corr_0))\n",
    "print(\"corr 1\", np.mean(corr_1), np.std(corr_1))\n",
    "print(\"corr 2\", np.mean(corr_2), np.std(corr_2))\n",
    "print(\"corr 3\", np.mean(corr_3), np.std(corr_3))"
   ]
  }
 ],
 "metadata": {
  "kernelspec": {
   "display_name": "sample_env",
   "language": "python",
   "name": "python3"
  },
  "language_info": {
   "codemirror_mode": {
    "name": "ipython",
    "version": 3
   },
   "file_extension": ".py",
   "mimetype": "text/x-python",
   "name": "python",
   "nbconvert_exporter": "python",
   "pygments_lexer": "ipython3",
   "version": "3.11.10"
  }
 },
 "nbformat": 4,
 "nbformat_minor": 2
}
